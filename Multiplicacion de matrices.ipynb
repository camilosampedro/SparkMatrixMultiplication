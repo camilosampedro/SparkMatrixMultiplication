{
 "cells": [
  {
   "cell_type": "markdown",
   "metadata": {},
   "source": [
    "# Multiplicación de matrices\n",
    "## Librerías utilizadas:\n",
    "* random"
   ]
  },
  {
   "cell_type": "code",
   "execution_count": 1,
   "metadata": {
    "collapsed": true
   },
   "outputs": [],
   "source": [
    "import random"
   ]
  },
  {
   "cell_type": "markdown",
   "metadata": {
    "collapsed": true
   },
   "source": [
    "## Matriz de prueba\n",
    "Crear una nueva matriz de prueba de dimensiones `filas` x `columnas`.\n",
    "\n",
    "Cada elemento será calculado aleatoriamente entre `0` y `valorMaximoNumero`."
   ]
  },
  {
   "cell_type": "code",
   "execution_count": 2,
   "metadata": {
    "collapsed": false
   },
   "outputs": [],
   "source": [
    "def inicializarMatrizNueva(filas,columnas,valorMaximoNumero):\n",
    "    matriz = []\n",
    "    for i in range(filas):\n",
    "        fil = []\n",
    "        for j in range(columnas):\n",
    "            a = random.randrange(valorMaximoNumero)\n",
    "            fil.append(a)\n",
    "        matriz.append(fil)\n",
    "    \n",
    "    matriz = sc.parallelize(matriz)\n",
    "    return matriz"
   ]
  },
  {
   "cell_type": "markdown",
   "metadata": {},
   "source": [
    "Ejecutar y tomar las dos primeras filas para verificar si sí funciona el algoritmo"
   ]
  },
  {
   "cell_type": "code",
   "execution_count": 3,
   "metadata": {
    "collapsed": false
   },
   "outputs": [
    {
     "name": "stdout",
     "output_type": "stream",
     "text": [
      "[[572, 448, 125, 644, 458, 538, 792, 157, 800, 150, 983, 929, 337, 719, 344, 726, 674, 779, 668, 591], [586, 168, 381, 687, 609, 682, 306, 481, 380, 777, 301, 115, 775, 917, 97, 396, 568, 25, 151, 5]]\n"
     ]
    }
   ],
   "source": [
    "matriz = inicializarMatrizNueva(10000,20,1000)\n",
    "print(matriz.take(2))"
   ]
  },
  {
   "cell_type": "code",
   "execution_count": 4,
   "metadata": {
    "collapsed": false
   },
   "outputs": [
    {
     "name": "stdout",
     "output_type": "stream",
     "text": [
      "[[572, 448, 125, 644, 458, 538, 792, 157, 800, 150, 983, 929, 337, 719, 344, 726, 674, 779, 668, 591], [586, 168, 381, 687, 609, 682, 306, 481, 380, 777, 301, 115, 775, 917, 97, 396, 568, 25, 151, 5]]\n"
     ]
    }
   ],
   "source": [
    "matriz2 = inicializarMatrizNueva(20,10000,1000)\n",
    "print(matriz.take(2))"
   ]
  },
  {
   "cell_type": "markdown",
   "metadata": {
    "collapsed": false
   },
   "source": [
    "Se guarda el archivo en $HOMEHDFS/matriz5"
   ]
  },
  {
   "cell_type": "code",
   "execution_count": 5,
   "metadata": {
    "collapsed": false
   },
   "outputs": [],
   "source": [
    "matriz.saveAsTextFile(\"matriz_n8\")\n",
    "matriz2.saveAsTextFile(\"matriz_n9\")"
   ]
  },
  {
   "cell_type": "markdown",
   "metadata": {},
   "source": [
    "## Implementación multiplicación de matrices\n",
    "Lectura de la matriz"
   ]
  },
  {
   "cell_type": "code",
   "execution_count": null,
   "metadata": {
    "collapsed": true
   },
   "outputs": [],
   "source": [
    "matriz2=sc.textFile(\"matriz8\")"
   ]
  },
  {
   "cell_type": "markdown",
   "metadata": {},
   "source": [
    "Función para separar y limpiar los números del archivo. Recibe cada línea y la separa por espacios, luego limpia `,`, `[` y `]`"
   ]
  },
  {
   "cell_type": "code",
   "execution_count": null,
   "metadata": {
    "collapsed": true
   },
   "outputs": [],
   "source": [
    "def quitar(x):\n",
    "    y = x.split()\n",
    "    return map(lambda w: int(w.replace(\",\",\"\").replace(\"[\",\"\").replace(\"]\",\"\")),y)"
   ]
  },
  {
   "cell_type": "code",
   "execution_count": null,
   "metadata": {
    "collapsed": false
   },
   "outputs": [],
   "source": [
    "matriz2 = matriz2.map(quitar)"
   ]
  },
  {
   "cell_type": "code",
   "execution_count": null,
   "metadata": {
    "collapsed": false
   },
   "outputs": [],
   "source": [
    "print(matriz2.take(2))"
   ]
  },
  {
   "cell_type": "code",
   "execution_count": null,
   "metadata": {
    "collapsed": true
   },
   "outputs": [],
   "source": []
  }
 ],
 "metadata": {
  "kernelspec": {
   "display_name": "Python 2",
   "language": "python",
   "name": "python2"
  },
  "language_info": {
   "codemirror_mode": {
    "name": "ipython",
    "version": 2
   },
   "file_extension": ".py",
   "mimetype": "text/x-python",
   "name": "python",
   "nbconvert_exporter": "python",
   "pygments_lexer": "ipython2",
   "version": "2.7.6"
  }
 },
 "nbformat": 4,
 "nbformat_minor": 0
}
